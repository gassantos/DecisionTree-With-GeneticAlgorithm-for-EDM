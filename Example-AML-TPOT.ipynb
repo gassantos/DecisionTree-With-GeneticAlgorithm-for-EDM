from tpot import TPOTClassifier
from sklearn.datasets import load_iris
from sklearn.model_selection import train_test_split
import numpy as np

'''
# create instance 
tpot = TPOTClassifier()

# fit instance
tpot.fit(X_train, y_train)
 
# create instance
tpot = TPOTRegressor()

# fit instance
tpot.fit(X_train, y_train)
 
# evaluate performance on test data
tpot.score(X_test, y_test)
 
# export the script used to create the best model
tpot.export('tpot_exported_pipeline.py')
'''



iris = load_iris()
X_train, X_test, y_train, y_test = train_test_split(iris.data.astype(np.float64),
    iris.target.astype(np.float64), train_size=0.8, test_size=0.2)
 
tpot = TPOTClassifier(generations=5, population_size=50, verbosity=2, n_jobs=-1)
tpot.fit(X_train, y_train)
print(tpot.score(X_test, y_test))